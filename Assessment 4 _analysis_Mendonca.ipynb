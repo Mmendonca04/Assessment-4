{
 "cells": [
  {
   "cell_type": "code",
   "execution_count": 13,
   "id": "9b99d1b5",
   "metadata": {},
   "outputs": [
    {
     "data": {
      "text/html": [
       "<div>\n",
       "<style scoped>\n",
       "    .dataframe tbody tr th:only-of-type {\n",
       "        vertical-align: middle;\n",
       "    }\n",
       "\n",
       "    .dataframe tbody tr th {\n",
       "        vertical-align: top;\n",
       "    }\n",
       "\n",
       "    .dataframe thead th {\n",
       "        text-align: right;\n",
       "    }\n",
       "</style>\n",
       "<table border=\"1\" class=\"dataframe\">\n",
       "  <thead>\n",
       "    <tr style=\"text-align: right;\">\n",
       "      <th></th>\n",
       "      <th>Date</th>\n",
       "      <th>Sales_Amount</th>\n",
       "      <th>Units_Sold</th>\n",
       "      <th>Product_Category</th>\n",
       "      <th>Product_Name</th>\n",
       "      <th>Revenue.1</th>\n",
       "      <th>Customer_Rating</th>\n",
       "      <th>Sales_Channel</th>\n",
       "    </tr>\n",
       "  </thead>\n",
       "  <tbody>\n",
       "    <tr>\n",
       "      <th>2</th>\n",
       "      <td>2005-01-01</td>\n",
       "      <td>£19,407</td>\n",
       "      <td>77</td>\n",
       "      <td>Electronics</td>\n",
       "      <td>Headphones</td>\n",
       "      <td>£3,529</td>\n",
       "      <td>3</td>\n",
       "      <td>Online</td>\n",
       "    </tr>\n",
       "    <tr>\n",
       "      <th>5</th>\n",
       "      <td>2005-04-01</td>\n",
       "      <td>£14,408</td>\n",
       "      <td>53</td>\n",
       "      <td>Electronics</td>\n",
       "      <td>Tablet</td>\n",
       "      <td>£3,532</td>\n",
       "      <td>2</td>\n",
       "      <td>In-Store</td>\n",
       "    </tr>\n",
       "    <tr>\n",
       "      <th>14</th>\n",
       "      <td>2005-01-13</td>\n",
       "      <td>£7,483</td>\n",
       "      <td>29</td>\n",
       "      <td>Electronics</td>\n",
       "      <td>Headphones</td>\n",
       "      <td>£3,541</td>\n",
       "      <td>1</td>\n",
       "      <td>Online</td>\n",
       "    </tr>\n",
       "    <tr>\n",
       "      <th>15</th>\n",
       "      <td>2005-01-14</td>\n",
       "      <td>£13,848</td>\n",
       "      <td>84</td>\n",
       "      <td>Electronics</td>\n",
       "      <td>Tablet</td>\n",
       "      <td>£3,542</td>\n",
       "      <td>5</td>\n",
       "      <td>In-Store</td>\n",
       "    </tr>\n",
       "    <tr>\n",
       "      <th>17</th>\n",
       "      <td>2005-01-16</td>\n",
       "      <td>£16,247</td>\n",
       "      <td>95</td>\n",
       "      <td>Electronics</td>\n",
       "      <td>Tablet</td>\n",
       "      <td>£3,544</td>\n",
       "      <td>3</td>\n",
       "      <td>Online</td>\n",
       "    </tr>\n",
       "    <tr>\n",
       "      <th>...</th>\n",
       "      <td>...</td>\n",
       "      <td>...</td>\n",
       "      <td>...</td>\n",
       "      <td>...</td>\n",
       "      <td>...</td>\n",
       "      <td>...</td>\n",
       "      <td>...</td>\n",
       "      <td>...</td>\n",
       "    </tr>\n",
       "    <tr>\n",
       "      <th>7295</th>\n",
       "      <td>2024-12-20</td>\n",
       "      <td>£14,165</td>\n",
       "      <td>75</td>\n",
       "      <td>Mobile Phones</td>\n",
       "      <td>Smartphone</td>\n",
       "      <td>£10,822</td>\n",
       "      <td>3</td>\n",
       "      <td>Online</td>\n",
       "    </tr>\n",
       "    <tr>\n",
       "      <th>7296</th>\n",
       "      <td>2024-12-21</td>\n",
       "      <td>£17,954</td>\n",
       "      <td>53</td>\n",
       "      <td>Electronics</td>\n",
       "      <td>Tablet</td>\n",
       "      <td>£10,823</td>\n",
       "      <td>2</td>\n",
       "      <td>In-Store</td>\n",
       "    </tr>\n",
       "    <tr>\n",
       "      <th>7298</th>\n",
       "      <td>2024-12-23</td>\n",
       "      <td>£14,880</td>\n",
       "      <td>71</td>\n",
       "      <td>Computers</td>\n",
       "      <td>Laptop</td>\n",
       "      <td>£10,825</td>\n",
       "      <td>5</td>\n",
       "      <td>In-Store</td>\n",
       "    </tr>\n",
       "    <tr>\n",
       "      <th>7299</th>\n",
       "      <td>2024-12-24</td>\n",
       "      <td>£17,599</td>\n",
       "      <td>94</td>\n",
       "      <td>Electronics</td>\n",
       "      <td>Tablet</td>\n",
       "      <td>£10,826</td>\n",
       "      <td>4</td>\n",
       "      <td>In-Store</td>\n",
       "    </tr>\n",
       "    <tr>\n",
       "      <th>7302</th>\n",
       "      <td>2024-12-27</td>\n",
       "      <td>£9,130</td>\n",
       "      <td>23</td>\n",
       "      <td>Electronics</td>\n",
       "      <td>Tablet</td>\n",
       "      <td>£10,829</td>\n",
       "      <td>3</td>\n",
       "      <td>In-Store</td>\n",
       "    </tr>\n",
       "  </tbody>\n",
       "</table>\n",
       "<p>3138 rows × 8 columns</p>\n",
       "</div>"
      ],
      "text/plain": [
       "            Date Sales_Amount  Units_Sold Product_Category Product_Name  \\\n",
       "2     2005-01-01      £19,407          77      Electronics   Headphones   \n",
       "5     2005-04-01      £14,408          53      Electronics       Tablet   \n",
       "14    2005-01-13       £7,483          29      Electronics   Headphones   \n",
       "15    2005-01-14      £13,848          84      Electronics       Tablet   \n",
       "17    2005-01-16      £16,247          95      Electronics       Tablet   \n",
       "...          ...          ...         ...              ...          ...   \n",
       "7295  2024-12-20      £14,165          75    Mobile Phones   Smartphone   \n",
       "7296  2024-12-21      £17,954          53      Electronics       Tablet   \n",
       "7298  2024-12-23      £14,880          71        Computers       Laptop   \n",
       "7299  2024-12-24      £17,599          94      Electronics       Tablet   \n",
       "7302  2024-12-27       £9,130          23      Electronics       Tablet   \n",
       "\n",
       "     Revenue.1  Customer_Rating Sales_Channel  \n",
       "2       £3,529                3        Online  \n",
       "5       £3,532                2      In-Store  \n",
       "14      £3,541                1        Online  \n",
       "15      £3,542                5      In-Store  \n",
       "17      £3,544                3        Online  \n",
       "...        ...              ...           ...  \n",
       "7295   £10,822                3        Online  \n",
       "7296   £10,823                2      In-Store  \n",
       "7298   £10,825                5      In-Store  \n",
       "7299   £10,826                4      In-Store  \n",
       "7302   £10,829                3      In-Store  \n",
       "\n",
       "[3138 rows x 8 columns]"
      ]
     },
     "execution_count": 13,
     "metadata": {},
     "output_type": "execute_result"
    }
   ],
   "source": [
    "import pandas as pd\n",
    "import numpy as np\n",
    "df = pd.read_csv('CleanedData.csv', index_col=0)\n",
    "df.head(3138)"
   ]
  },
  {
   "cell_type": "markdown",
   "id": "3412100f",
   "metadata": {},
   "source": [
    "## Calculates summary stats for dataset"
   ]
  },
  {
   "cell_type": "code",
   "execution_count": 14,
   "id": "6e7b5adf",
   "metadata": {},
   "outputs": [
    {
     "name": "stdout",
     "output_type": "stream",
     "text": [
      "       Sales_Amount   Units_Sold     Revenue.1  Customer_Rating\n",
      "count   3138.000000  3138.000000   3138.000000      3138.000000\n",
      "mean   12004.483429    44.631931   7224.471001         3.010516\n",
      "std     5193.919537    27.245597   2091.186699         1.278130\n",
      "min      505.000000     1.000000   3529.000000         1.000000\n",
      "25%     8501.750000    22.000000   5389.500000         2.000000\n",
      "50%    12679.500000    38.000000   7227.500000         3.000000\n",
      "75%    16172.250000    68.000000   9030.750000         4.000000\n",
      "max    19987.000000    99.000000  10829.000000         5.000000\n"
     ]
    }
   ],
   "source": [
    "# Calculates summary stats fo numeric columns\n",
    "df['Revenue.1'] = df['Revenue.1'].str.lstrip(\"£\")\n",
    "df['Revenue.1'] = df['Revenue.1'].str.replace(\",\",\"\")\n",
    "df['Revenue.1'] = df['Revenue.1'].astype(int)\n",
    "\n",
    "df['Sales_Amount'] = df['Sales_Amount'].str.lstrip(\"£\")\n",
    "df['Sales_Amount'] = df['Sales_Amount'].str.replace(\",\",\"\")\n",
    "df['Sales_Amount'] = df['Sales_Amount'].astype(int)\n",
    "\n",
    "print(df.describe())"
   ]
  },
  {
   "cell_type": "markdown",
   "id": "852c79ae",
   "metadata": {},
   "source": [
    "## Correlation analysis of dataset"
   ]
  },
  {
   "cell_type": "code",
   "execution_count": 15,
   "id": "db55cb2f",
   "metadata": {},
   "outputs": [
    {
     "data": {
      "text/html": [
       "<div>\n",
       "<style scoped>\n",
       "    .dataframe tbody tr th:only-of-type {\n",
       "        vertical-align: middle;\n",
       "    }\n",
       "\n",
       "    .dataframe tbody tr th {\n",
       "        vertical-align: top;\n",
       "    }\n",
       "\n",
       "    .dataframe thead th {\n",
       "        text-align: right;\n",
       "    }\n",
       "</style>\n",
       "<table border=\"1\" class=\"dataframe\">\n",
       "  <thead>\n",
       "    <tr style=\"text-align: right;\">\n",
       "      <th></th>\n",
       "      <th>Sales_Amount</th>\n",
       "      <th>Units_Sold</th>\n",
       "      <th>Revenue.1</th>\n",
       "      <th>Customer_Rating</th>\n",
       "    </tr>\n",
       "  </thead>\n",
       "  <tbody>\n",
       "    <tr>\n",
       "      <th>Sales_Amount</th>\n",
       "      <td>1.000000</td>\n",
       "      <td>0.488056</td>\n",
       "      <td>-0.025068</td>\n",
       "      <td>0.002041</td>\n",
       "    </tr>\n",
       "    <tr>\n",
       "      <th>Units_Sold</th>\n",
       "      <td>0.488056</td>\n",
       "      <td>1.000000</td>\n",
       "      <td>-0.012932</td>\n",
       "      <td>-0.010736</td>\n",
       "    </tr>\n",
       "    <tr>\n",
       "      <th>Revenue.1</th>\n",
       "      <td>-0.025068</td>\n",
       "      <td>-0.012932</td>\n",
       "      <td>1.000000</td>\n",
       "      <td>0.020597</td>\n",
       "    </tr>\n",
       "    <tr>\n",
       "      <th>Customer_Rating</th>\n",
       "      <td>0.002041</td>\n",
       "      <td>-0.010736</td>\n",
       "      <td>0.020597</td>\n",
       "      <td>1.000000</td>\n",
       "    </tr>\n",
       "  </tbody>\n",
       "</table>\n",
       "</div>"
      ],
      "text/plain": [
       "                 Sales_Amount  Units_Sold  Revenue.1  Customer_Rating\n",
       "Sales_Amount         1.000000    0.488056  -0.025068         0.002041\n",
       "Units_Sold           0.488056    1.000000  -0.012932        -0.010736\n",
       "Revenue.1           -0.025068   -0.012932   1.000000         0.020597\n",
       "Customer_Rating      0.002041   -0.010736   0.020597         1.000000"
      ]
     },
     "execution_count": 15,
     "metadata": {},
     "output_type": "execute_result"
    }
   ],
   "source": [
    "# Correlation analysis:\n",
    "df.corr()"
   ]
  },
  {
   "cell_type": "markdown",
   "id": "caef0ba3",
   "metadata": {},
   "source": [
    "## Category based analysis (product category)"
   ]
  },
  {
   "cell_type": "code",
   "execution_count": 16,
   "id": "ed827a43",
   "metadata": {},
   "outputs": [
    {
     "data": {
      "text/plain": [
       "Product_Category\n",
       "Computers         755\n",
       "Electronics      1631\n",
       "Mobile Phones     752\n",
       "Name: Product_Name, dtype: int64"
      ]
     },
     "execution_count": 16,
     "metadata": {},
     "output_type": "execute_result"
    }
   ],
   "source": [
    "# Count of Products per each category\n",
    "n_by_category = df.groupby(\"Product_Category\")[\"Product_Name\"].count()\n",
    "n_by_category.head()"
   ]
  },
  {
   "cell_type": "code",
   "execution_count": 17,
   "id": "903ffa0e",
   "metadata": {
    "scrolled": true
   },
   "outputs": [
    {
     "data": {
      "text/plain": [
       "Product_Category\n",
       "Computers        7250.511258\n",
       "Electronics      7219.524831\n",
       "Mobile Phones    7209.054521\n",
       "Name: Revenue.1, dtype: float64"
      ]
     },
     "execution_count": 17,
     "metadata": {},
     "output_type": "execute_result"
    }
   ],
   "source": [
    "# Mean revenue by product category\n",
    "revenue_by_category = df.groupby(\"Product_Category\")[\"Revenue.1\"].mean()\n",
    "revenue_by_category.head()"
   ]
  },
  {
   "cell_type": "code",
   "execution_count": 22,
   "id": "46714b88",
   "metadata": {},
   "outputs": [
    {
     "data": {
      "text/plain": [
       "Product_Category\n",
       "Computers         5474136\n",
       "Electronics      11775045\n",
       "Mobile Phones     5421209\n",
       "Name: Revenue.1, dtype: int32"
      ]
     },
     "execution_count": 22,
     "metadata": {},
     "output_type": "execute_result"
    }
   ],
   "source": [
    "# Total revenue per category\n",
    "tot_revenue_by_category = df.groupby(\"Product_Category\")[\"Revenue.1\"].sum()\n",
    "tot_revenue_by_category.head()"
   ]
  },
  {
   "cell_type": "code",
   "execution_count": 19,
   "id": "a6153d1f",
   "metadata": {},
   "outputs": [
    {
     "data": {
      "text/plain": [
       "Product_Category\n",
       "Computers        2.969536\n",
       "Electronics      3.029430\n",
       "Mobile Phones    3.010638\n",
       "Name: Customer_Rating, dtype: float64"
      ]
     },
     "execution_count": 19,
     "metadata": {},
     "output_type": "execute_result"
    }
   ],
   "source": [
    "# Mean ratings per product category\n",
    "rating_by_category = df.groupby(\"Product_Category\")[\"Customer_Rating\"].mean()\n",
    "rating_by_category.head()"
   ]
  },
  {
   "cell_type": "code",
   "execution_count": 20,
   "id": "e62d9543",
   "metadata": {},
   "outputs": [
    {
     "data": {
      "text/plain": [
       "Product_Category\n",
       "Computers        45.573510\n",
       "Electronics      44.296137\n",
       "Mobile Phones    44.414894\n",
       "Name: Units_Sold, dtype: float64"
      ]
     },
     "execution_count": 20,
     "metadata": {},
     "output_type": "execute_result"
    }
   ],
   "source": [
    "# Mean sales per product category\n",
    "sales_by_category = df.groupby(\"Product_Category\")[\"Units_Sold\"].mean()\n",
    "sales_by_category.head()"
   ]
  },
  {
   "cell_type": "code",
   "execution_count": 23,
   "id": "327a1ef4",
   "metadata": {},
   "outputs": [
    {
     "data": {
      "text/plain": [
       "Product_Category\n",
       "Computers        34408\n",
       "Electronics      72247\n",
       "Mobile Phones    33400\n",
       "Name: Units_Sold, dtype: int64"
      ]
     },
     "execution_count": 23,
     "metadata": {},
     "output_type": "execute_result"
    }
   ],
   "source": [
    "# total sales per product category\n",
    "tot_sales_by_category = df.groupby(\"Product_Category\")[\"Units_Sold\"].sum()\n",
    "tot_sales_by_category.head()"
   ]
  },
  {
   "cell_type": "code",
   "execution_count": 21,
   "id": "3fbeec0c",
   "metadata": {},
   "outputs": [
    {
     "data": {
      "text/plain": [
       "Product_Category\n",
       "Computers        11962.838411\n",
       "Electronics      12069.369712\n",
       "Mobile Phones    11905.563830\n",
       "Name: Sales_Amount, dtype: float64"
      ]
     },
     "execution_count": 21,
     "metadata": {},
     "output_type": "execute_result"
    }
   ],
   "source": [
    "# Sales amount per product category\n",
    "sale_amount_by_category = df.groupby(\"Product_Category\")[\"Sales_Amount\"].mean()\n",
    "sale_amount_by_category.head()"
   ]
  },
  {
   "cell_type": "code",
   "execution_count": 24,
   "id": "09e8bee6",
   "metadata": {},
   "outputs": [
    {
     "data": {
      "text/plain": [
       "Product_Category\n",
       "Computers         9031943\n",
       "Electronics      19685142\n",
       "Mobile Phones     8952984\n",
       "Name: Sales_Amount, dtype: int32"
      ]
     },
     "execution_count": 24,
     "metadata": {},
     "output_type": "execute_result"
    }
   ],
   "source": [
    "# total Sales amount per product category\n",
    "tot_sale_amount_by_category = df.groupby(\"Product_Category\")[\"Sales_Amount\"].sum()\n",
    "tot_sale_amount_by_category.head()"
   ]
  },
  {
   "cell_type": "markdown",
   "id": "72d176fa",
   "metadata": {},
   "source": [
    "## Product based analysis (Product Name)"
   ]
  },
  {
   "cell_type": "code",
   "execution_count": 33,
   "id": "2c32846c",
   "metadata": {},
   "outputs": [
    {
     "data": {
      "text/plain": [
       "Product_Name\n",
       "Headphones    7236.944900\n",
       "Laptop        7250.511258\n",
       "Smartphone    7209.054521\n",
       "Tablet        7200.425450\n",
       "Name: Revenue.1, dtype: float64"
      ]
     },
     "execution_count": 33,
     "metadata": {},
     "output_type": "execute_result"
    }
   ],
   "source": [
    "# Mean revenue by product\n",
    "revenue_by_product = df.groupby(\"Product_Name\")[\"Revenue.1\"].mean()\n",
    "revenue_by_product.head()"
   ]
  },
  {
   "cell_type": "code",
   "execution_count": 34,
   "id": "93239d5e",
   "metadata": {},
   "outputs": [
    {
     "data": {
      "text/plain": [
       "Product_Name\n",
       "Headphones    6173114\n",
       "Laptop        5474136\n",
       "Smartphone    5421209\n",
       "Tablet        5601931\n",
       "Name: Revenue.1, dtype: int32"
      ]
     },
     "execution_count": 34,
     "metadata": {},
     "output_type": "execute_result"
    }
   ],
   "source": [
    "# Total revenue per product\n",
    "tot_revenue_by_product = df.groupby(\"Product_Name\")[\"Revenue.1\"].sum()\n",
    "tot_revenue_by_product.head()"
   ]
  },
  {
   "cell_type": "code",
   "execution_count": 35,
   "id": "9ce00faa",
   "metadata": {},
   "outputs": [
    {
     "data": {
      "text/plain": [
       "Product_Name\n",
       "Headphones    3.024619\n",
       "Laptop        2.969536\n",
       "Smartphone    3.010638\n",
       "Tablet        3.034704\n",
       "Name: Customer_Rating, dtype: float64"
      ]
     },
     "execution_count": 35,
     "metadata": {},
     "output_type": "execute_result"
    }
   ],
   "source": [
    "# Mean ratings per product \n",
    "rating_by_product = df.groupby(\"Product_Name\")[\"Customer_Rating\"].mean()\n",
    "rating_by_product.head()"
   ]
  },
  {
   "cell_type": "code",
   "execution_count": 36,
   "id": "c77794bb",
   "metadata": {},
   "outputs": [
    {
     "data": {
      "text/plain": [
       "Product_Name\n",
       "Headphones    44.094959\n",
       "Laptop        45.573510\n",
       "Smartphone    44.414894\n",
       "Tablet        44.516710\n",
       "Name: Units_Sold, dtype: float64"
      ]
     },
     "execution_count": 36,
     "metadata": {},
     "output_type": "execute_result"
    }
   ],
   "source": [
    "# Mean sales per product \n",
    "sales_by_product = df.groupby(\"Product_Name\")[\"Units_Sold\"].mean()\n",
    "sales_by_product.head()"
   ]
  },
  {
   "cell_type": "code",
   "execution_count": 38,
   "id": "8869fb02",
   "metadata": {},
   "outputs": [
    {
     "data": {
      "text/plain": [
       "Product_Name\n",
       "Headphones    37613\n",
       "Laptop        34408\n",
       "Smartphone    33400\n",
       "Tablet        34634\n",
       "Name: Units_Sold, dtype: int64"
      ]
     },
     "execution_count": 38,
     "metadata": {},
     "output_type": "execute_result"
    }
   ],
   "source": [
    "# total sales per product \n",
    "tot_sales_by_product = df.groupby(\"Product_Name\")[\"Units_Sold\"].sum()\n",
    "tot_sales_by_product.head()"
   ]
  },
  {
   "cell_type": "code",
   "execution_count": 39,
   "id": "69859e30",
   "metadata": {},
   "outputs": [
    {
     "data": {
      "text/plain": [
       "Product_Name\n",
       "Headphones    12164.155920\n",
       "Laptop        11962.838411\n",
       "Smartphone    11905.563830\n",
       "Tablet        11965.446015\n",
       "Name: Sales_Amount, dtype: float64"
      ]
     },
     "execution_count": 39,
     "metadata": {},
     "output_type": "execute_result"
    }
   ],
   "source": [
    "# Sales amount per product \n",
    "sale_amount_by_product = df.groupby(\"Product_Name\")[\"Sales_Amount\"].mean()\n",
    "sale_amount_by_product.head()"
   ]
  },
  {
   "cell_type": "code",
   "execution_count": 40,
   "id": "629e1338",
   "metadata": {},
   "outputs": [
    {
     "data": {
      "text/plain": [
       "Product_Name\n",
       "Headphones    10376025\n",
       "Laptop         9031943\n",
       "Smartphone     8952984\n",
       "Tablet         9309117\n",
       "Name: Sales_Amount, dtype: int32"
      ]
     },
     "execution_count": 40,
     "metadata": {},
     "output_type": "execute_result"
    }
   ],
   "source": [
    "# total Sales amount per product \n",
    "tot_sale_amount_by_product = df.groupby(\"Product_Name\")[\"Sales_Amount\"].sum()\n",
    "tot_sale_amount_by_product.head()"
   ]
  },
  {
   "cell_type": "markdown",
   "id": "e501dd0b",
   "metadata": {},
   "source": [
    "## Individualised analysis on favourite product:"
   ]
  },
  {
   "cell_type": "code",
   "execution_count": 31,
   "id": "30800f84",
   "metadata": {},
   "outputs": [
    {
     "name": "stdout",
     "output_type": "stream",
     "text": [
      "total: 10376025\n",
      "mean: 12164.15592028136\n"
     ]
    }
   ],
   "source": [
    "# Total sales amount for headphones\n",
    "tot_salesA_headphones = df[df[\"Product_Name\"] == \"Headphones\"][\"Sales_Amount\"].sum()\n",
    "print(\"total:\",tot_salesA_headphones)\n",
    "\n",
    "# mean sales amount for headphones\n",
    "mean_salesA_headphones = df[df[\"Product_Name\"] == \"Headphones\"][\"Sales_Amount\"].mean()\n",
    "print(\"mean:\",mean_salesA_headphones)"
   ]
  },
  {
   "cell_type": "code",
   "execution_count": 32,
   "id": "c531facb",
   "metadata": {},
   "outputs": [
    {
     "name": "stdout",
     "output_type": "stream",
     "text": [
      "mean: 7236.9449003517\n",
      "total: 6173114\n"
     ]
    }
   ],
   "source": [
    "# Total and mean revenue for headphones\n",
    "mean_revenue_headphones = df[df[\"Product_Name\"] == \"Headphones\"][\"Revenue.1\"].mean()\n",
    "print(\"mean:\",mean_revenue_headphones)\n",
    "\n",
    "total_revenue_headphones = df[df[\"Product_Name\"] == \"Headphones\"][\"Revenue.1\"].sum()\n",
    "print(\"total:\",total_revenue_headphones)"
   ]
  },
  {
   "cell_type": "code",
   "execution_count": 43,
   "id": "9e5c0e66",
   "metadata": {},
   "outputs": [
    {
     "data": {
      "text/plain": [
       "Product_Name\n",
       "Headphones    853\n",
       "Laptop        755\n",
       "Smartphone    752\n",
       "Tablet        778\n",
       "Name: Product_Category, dtype: int64"
      ]
     },
     "execution_count": 43,
     "metadata": {},
     "output_type": "execute_result"
    }
   ],
   "source": [
    "# Count of Products \n",
    "n_by_category = df.groupby(\"Product_Name\")[\"Product_Category\"].count()\n",
    "n_by_category.head()"
   ]
  },
  {
   "cell_type": "code",
   "execution_count": null,
   "id": "928b2593",
   "metadata": {},
   "outputs": [],
   "source": []
  }
 ],
 "metadata": {
  "kernelspec": {
   "display_name": "Python 3 (ipykernel)",
   "language": "python",
   "name": "python3"
  },
  "language_info": {
   "codemirror_mode": {
    "name": "ipython",
    "version": 3
   },
   "file_extension": ".py",
   "mimetype": "text/x-python",
   "name": "python",
   "nbconvert_exporter": "python",
   "pygments_lexer": "ipython3",
   "version": "3.9.13"
  }
 },
 "nbformat": 4,
 "nbformat_minor": 5
}
